{
 "cells": [
  {
   "cell_type": "markdown",
   "metadata": {},
   "source": [
    "# Principal Component Regression\n",
    "Author: Deep Contractor"
   ]
  },
  {
   "cell_type": "code",
   "execution_count": 2,
   "metadata": {},
   "outputs": [],
   "source": [
    "import pandas as pd\n",
    "import numpy as np\n",
    "import matplotlib.pyplot as plt\n",
    "import seaborn as sns\n",
    "%matplotlib inline"
   ]
  },
  {
   "cell_type": "code",
   "execution_count": 3,
   "metadata": {},
   "outputs": [],
   "source": [
    "data = pd.read_csv(\"Bodyfat.csv\")"
   ]
  },
  {
   "cell_type": "code",
   "execution_count": 4,
   "metadata": {
    "scrolled": true
   },
   "outputs": [
    {
     "data": {
      "text/html": [
       "<div>\n",
       "<style scoped>\n",
       "    .dataframe tbody tr th:only-of-type {\n",
       "        vertical-align: middle;\n",
       "    }\n",
       "\n",
       "    .dataframe tbody tr th {\n",
       "        vertical-align: top;\n",
       "    }\n",
       "\n",
       "    .dataframe thead th {\n",
       "        text-align: right;\n",
       "    }\n",
       "</style>\n",
       "<table border=\"1\" class=\"dataframe\">\n",
       "  <thead>\n",
       "    <tr style=\"text-align: right;\">\n",
       "      <th></th>\n",
       "      <th>Density</th>\n",
       "      <th>bodyfat</th>\n",
       "      <th>Age</th>\n",
       "      <th>Weight</th>\n",
       "      <th>Height</th>\n",
       "      <th>Neck</th>\n",
       "      <th>Chest</th>\n",
       "      <th>Abdomen</th>\n",
       "      <th>Hip</th>\n",
       "      <th>Thigh</th>\n",
       "      <th>Knee</th>\n",
       "      <th>Ankle</th>\n",
       "      <th>Biceps</th>\n",
       "      <th>Forearm</th>\n",
       "      <th>Wrist</th>\n",
       "    </tr>\n",
       "  </thead>\n",
       "  <tbody>\n",
       "    <tr>\n",
       "      <td>0</td>\n",
       "      <td>1.0708</td>\n",
       "      <td>12.3</td>\n",
       "      <td>23</td>\n",
       "      <td>154.25</td>\n",
       "      <td>67.75</td>\n",
       "      <td>36.2</td>\n",
       "      <td>93.1</td>\n",
       "      <td>85.2</td>\n",
       "      <td>94.5</td>\n",
       "      <td>59.0</td>\n",
       "      <td>37.3</td>\n",
       "      <td>21.9</td>\n",
       "      <td>32.0</td>\n",
       "      <td>27.4</td>\n",
       "      <td>17.1</td>\n",
       "    </tr>\n",
       "    <tr>\n",
       "      <td>1</td>\n",
       "      <td>1.0853</td>\n",
       "      <td>6.1</td>\n",
       "      <td>22</td>\n",
       "      <td>173.25</td>\n",
       "      <td>72.25</td>\n",
       "      <td>38.5</td>\n",
       "      <td>93.6</td>\n",
       "      <td>83.0</td>\n",
       "      <td>98.7</td>\n",
       "      <td>58.7</td>\n",
       "      <td>37.3</td>\n",
       "      <td>23.4</td>\n",
       "      <td>30.5</td>\n",
       "      <td>28.9</td>\n",
       "      <td>18.2</td>\n",
       "    </tr>\n",
       "    <tr>\n",
       "      <td>2</td>\n",
       "      <td>1.0414</td>\n",
       "      <td>25.3</td>\n",
       "      <td>22</td>\n",
       "      <td>154.00</td>\n",
       "      <td>66.25</td>\n",
       "      <td>34.0</td>\n",
       "      <td>95.8</td>\n",
       "      <td>87.9</td>\n",
       "      <td>99.2</td>\n",
       "      <td>59.6</td>\n",
       "      <td>38.9</td>\n",
       "      <td>24.0</td>\n",
       "      <td>28.8</td>\n",
       "      <td>25.2</td>\n",
       "      <td>16.6</td>\n",
       "    </tr>\n",
       "    <tr>\n",
       "      <td>3</td>\n",
       "      <td>1.0751</td>\n",
       "      <td>10.4</td>\n",
       "      <td>26</td>\n",
       "      <td>184.75</td>\n",
       "      <td>72.25</td>\n",
       "      <td>37.4</td>\n",
       "      <td>101.8</td>\n",
       "      <td>86.4</td>\n",
       "      <td>101.2</td>\n",
       "      <td>60.1</td>\n",
       "      <td>37.3</td>\n",
       "      <td>22.8</td>\n",
       "      <td>32.4</td>\n",
       "      <td>29.4</td>\n",
       "      <td>18.2</td>\n",
       "    </tr>\n",
       "    <tr>\n",
       "      <td>4</td>\n",
       "      <td>1.0340</td>\n",
       "      <td>28.7</td>\n",
       "      <td>24</td>\n",
       "      <td>184.25</td>\n",
       "      <td>71.25</td>\n",
       "      <td>34.4</td>\n",
       "      <td>97.3</td>\n",
       "      <td>100.0</td>\n",
       "      <td>101.9</td>\n",
       "      <td>63.2</td>\n",
       "      <td>42.2</td>\n",
       "      <td>24.0</td>\n",
       "      <td>32.2</td>\n",
       "      <td>27.7</td>\n",
       "      <td>17.7</td>\n",
       "    </tr>\n",
       "  </tbody>\n",
       "</table>\n",
       "</div>"
      ],
      "text/plain": [
       "   Density  bodyfat  Age  Weight  Height  Neck  Chest  Abdomen    Hip  Thigh  \\\n",
       "0   1.0708     12.3   23  154.25   67.75  36.2   93.1     85.2   94.5   59.0   \n",
       "1   1.0853      6.1   22  173.25   72.25  38.5   93.6     83.0   98.7   58.7   \n",
       "2   1.0414     25.3   22  154.00   66.25  34.0   95.8     87.9   99.2   59.6   \n",
       "3   1.0751     10.4   26  184.75   72.25  37.4  101.8     86.4  101.2   60.1   \n",
       "4   1.0340     28.7   24  184.25   71.25  34.4   97.3    100.0  101.9   63.2   \n",
       "\n",
       "   Knee  Ankle  Biceps  Forearm  Wrist  \n",
       "0  37.3   21.9    32.0     27.4   17.1  \n",
       "1  37.3   23.4    30.5     28.9   18.2  \n",
       "2  38.9   24.0    28.8     25.2   16.6  \n",
       "3  37.3   22.8    32.4     29.4   18.2  \n",
       "4  42.2   24.0    32.2     27.7   17.7  "
      ]
     },
     "execution_count": 4,
     "metadata": {},
     "output_type": "execute_result"
    }
   ],
   "source": [
    "data.head()"
   ]
  },
  {
   "cell_type": "code",
   "execution_count": 5,
   "metadata": {},
   "outputs": [
    {
     "data": {
      "text/plain": [
       "(252, 15)"
      ]
     },
     "execution_count": 5,
     "metadata": {},
     "output_type": "execute_result"
    }
   ],
   "source": [
    "data.shape"
   ]
  },
  {
   "cell_type": "code",
   "execution_count": 6,
   "metadata": {},
   "outputs": [],
   "source": [
    "data_x = data.iloc[:,2:15]\n",
    "data_y = data.iloc[:,1]"
   ]
  },
  {
   "cell_type": "code",
   "execution_count": 7,
   "metadata": {},
   "outputs": [
    {
     "data": {
      "text/html": [
       "<div>\n",
       "<style scoped>\n",
       "    .dataframe tbody tr th:only-of-type {\n",
       "        vertical-align: middle;\n",
       "    }\n",
       "\n",
       "    .dataframe tbody tr th {\n",
       "        vertical-align: top;\n",
       "    }\n",
       "\n",
       "    .dataframe thead th {\n",
       "        text-align: right;\n",
       "    }\n",
       "</style>\n",
       "<table border=\"1\" class=\"dataframe\">\n",
       "  <thead>\n",
       "    <tr style=\"text-align: right;\">\n",
       "      <th></th>\n",
       "      <th>Age</th>\n",
       "      <th>Weight</th>\n",
       "      <th>Height</th>\n",
       "      <th>Neck</th>\n",
       "      <th>Chest</th>\n",
       "      <th>Abdomen</th>\n",
       "      <th>Hip</th>\n",
       "      <th>Thigh</th>\n",
       "      <th>Knee</th>\n",
       "      <th>Ankle</th>\n",
       "      <th>Biceps</th>\n",
       "      <th>Forearm</th>\n",
       "      <th>Wrist</th>\n",
       "    </tr>\n",
       "  </thead>\n",
       "  <tbody>\n",
       "    <tr>\n",
       "      <td>0</td>\n",
       "      <td>23</td>\n",
       "      <td>154.25</td>\n",
       "      <td>67.75</td>\n",
       "      <td>36.2</td>\n",
       "      <td>93.1</td>\n",
       "      <td>85.2</td>\n",
       "      <td>94.5</td>\n",
       "      <td>59.0</td>\n",
       "      <td>37.3</td>\n",
       "      <td>21.9</td>\n",
       "      <td>32.0</td>\n",
       "      <td>27.4</td>\n",
       "      <td>17.1</td>\n",
       "    </tr>\n",
       "    <tr>\n",
       "      <td>1</td>\n",
       "      <td>22</td>\n",
       "      <td>173.25</td>\n",
       "      <td>72.25</td>\n",
       "      <td>38.5</td>\n",
       "      <td>93.6</td>\n",
       "      <td>83.0</td>\n",
       "      <td>98.7</td>\n",
       "      <td>58.7</td>\n",
       "      <td>37.3</td>\n",
       "      <td>23.4</td>\n",
       "      <td>30.5</td>\n",
       "      <td>28.9</td>\n",
       "      <td>18.2</td>\n",
       "    </tr>\n",
       "    <tr>\n",
       "      <td>2</td>\n",
       "      <td>22</td>\n",
       "      <td>154.00</td>\n",
       "      <td>66.25</td>\n",
       "      <td>34.0</td>\n",
       "      <td>95.8</td>\n",
       "      <td>87.9</td>\n",
       "      <td>99.2</td>\n",
       "      <td>59.6</td>\n",
       "      <td>38.9</td>\n",
       "      <td>24.0</td>\n",
       "      <td>28.8</td>\n",
       "      <td>25.2</td>\n",
       "      <td>16.6</td>\n",
       "    </tr>\n",
       "    <tr>\n",
       "      <td>3</td>\n",
       "      <td>26</td>\n",
       "      <td>184.75</td>\n",
       "      <td>72.25</td>\n",
       "      <td>37.4</td>\n",
       "      <td>101.8</td>\n",
       "      <td>86.4</td>\n",
       "      <td>101.2</td>\n",
       "      <td>60.1</td>\n",
       "      <td>37.3</td>\n",
       "      <td>22.8</td>\n",
       "      <td>32.4</td>\n",
       "      <td>29.4</td>\n",
       "      <td>18.2</td>\n",
       "    </tr>\n",
       "    <tr>\n",
       "      <td>4</td>\n",
       "      <td>24</td>\n",
       "      <td>184.25</td>\n",
       "      <td>71.25</td>\n",
       "      <td>34.4</td>\n",
       "      <td>97.3</td>\n",
       "      <td>100.0</td>\n",
       "      <td>101.9</td>\n",
       "      <td>63.2</td>\n",
       "      <td>42.2</td>\n",
       "      <td>24.0</td>\n",
       "      <td>32.2</td>\n",
       "      <td>27.7</td>\n",
       "      <td>17.7</td>\n",
       "    </tr>\n",
       "  </tbody>\n",
       "</table>\n",
       "</div>"
      ],
      "text/plain": [
       "   Age  Weight  Height  Neck  Chest  Abdomen    Hip  Thigh  Knee  Ankle  \\\n",
       "0   23  154.25   67.75  36.2   93.1     85.2   94.5   59.0  37.3   21.9   \n",
       "1   22  173.25   72.25  38.5   93.6     83.0   98.7   58.7  37.3   23.4   \n",
       "2   22  154.00   66.25  34.0   95.8     87.9   99.2   59.6  38.9   24.0   \n",
       "3   26  184.75   72.25  37.4  101.8     86.4  101.2   60.1  37.3   22.8   \n",
       "4   24  184.25   71.25  34.4   97.3    100.0  101.9   63.2  42.2   24.0   \n",
       "\n",
       "   Biceps  Forearm  Wrist  \n",
       "0    32.0     27.4   17.1  \n",
       "1    30.5     28.9   18.2  \n",
       "2    28.8     25.2   16.6  \n",
       "3    32.4     29.4   18.2  \n",
       "4    32.2     27.7   17.7  "
      ]
     },
     "execution_count": 7,
     "metadata": {},
     "output_type": "execute_result"
    }
   ],
   "source": [
    "data_x.head()"
   ]
  },
  {
   "cell_type": "code",
   "execution_count": 8,
   "metadata": {},
   "outputs": [
    {
     "data": {
      "text/plain": [
       "0    12.3\n",
       "1     6.1\n",
       "2    25.3\n",
       "3    10.4\n",
       "4    28.7\n",
       "Name: bodyfat, dtype: float64"
      ]
     },
     "execution_count": 8,
     "metadata": {},
     "output_type": "execute_result"
    }
   ],
   "source": [
    "data_y.head()"
   ]
  },
  {
   "cell_type": "code",
   "execution_count": 9,
   "metadata": {},
   "outputs": [],
   "source": [
    "import sklearn\n",
    "from sklearn import decomposition\n",
    "from sklearn.decomposition import PCA\n",
    "from sklearn.preprocessing import StandardScaler"
   ]
  },
  {
   "cell_type": "code",
   "execution_count": 10,
   "metadata": {},
   "outputs": [],
   "source": [
    "#scaling my data first so that it becomes unitless\n",
    "scaler=StandardScaler()\n",
    "scaler.fit(data_x)\n",
    "scaled_data_x = scaler.transform(data_x)"
   ]
  },
  {
   "cell_type": "code",
   "execution_count": 11,
   "metadata": {},
   "outputs": [
    {
     "data": {
      "text/plain": [
       "array([[-1.74007329, -0.84124583, -0.65620473, ..., -0.09067593,\n",
       "        -0.62671828, -1.2125412 ],\n",
       "       [-1.81958344, -0.19346239,  0.57478975, ..., -0.58814329,\n",
       "         0.11707924, -0.0319426 ],\n",
       "       [-1.81958344, -0.84976929, -1.06653622, ..., -1.15193963,\n",
       "        -1.71762131, -1.74917692],\n",
       "       ...,\n",
       "       [ 2.15592399,  0.26680479, -1.1349248 , ..., -0.32282736,\n",
       "        -0.72589128, -0.24659689],\n",
       "       [ 2.15592399,  0.40318025,  0.09606967, ..., -0.58814329,\n",
       "         0.36501175,  1.68529172],\n",
       "       [ 2.31494429,  0.97425249, -0.04070749, ...,  0.47312041,\n",
       "         0.66253075,  2.86589032]])"
      ]
     },
     "execution_count": 11,
     "metadata": {},
     "output_type": "execute_result"
    }
   ],
   "source": [
    "scaled_data_x"
   ]
  },
  {
   "cell_type": "code",
   "execution_count": 12,
   "metadata": {},
   "outputs": [
    {
     "data": {
      "text/plain": [
       "(252, 13)"
      ]
     },
     "execution_count": 12,
     "metadata": {},
     "output_type": "execute_result"
    }
   ],
   "source": [
    "scaled_data_x.shape"
   ]
  },
  {
   "cell_type": "code",
   "execution_count": 13,
   "metadata": {},
   "outputs": [
    {
     "data": {
      "text/plain": [
       "PCA(copy=True, iterated_power='auto', n_components=None, random_state=None,\n",
       "    svd_solver='auto', tol=0.0, whiten=False)"
      ]
     },
     "execution_count": 13,
     "metadata": {},
     "output_type": "execute_result"
    }
   ],
   "source": [
    "pca = PCA()\n",
    "pca.fit(scaled_data_x)"
   ]
  },
  {
   "cell_type": "code",
   "execution_count": 14,
   "metadata": {
    "scrolled": false
   },
   "outputs": [
    {
     "data": {
      "text/plain": [
       "array([0.6184759 , 0.1042366 , 0.0771014 , 0.05134564, 0.04606253,\n",
       "       0.02413494, 0.02201289, 0.02006958, 0.01407548, 0.01031945,\n",
       "       0.00596853, 0.00438128, 0.00181577])"
      ]
     },
     "execution_count": 14,
     "metadata": {},
     "output_type": "execute_result"
    }
   ],
   "source": [
    "data_x_pca = pca.transform(scaled_data_x)\n",
    "pca.explained_variance_ratio_\n"
   ]
  },
  {
   "cell_type": "code",
   "execution_count": 15,
   "metadata": {},
   "outputs": [
    {
     "data": {
      "image/png": "[encoded data removed]",
      "text/plain": [
       "<Figure size 432x288 with 1 Axes>"
      ]
     },
     "metadata": {},
     "output_type": "display_data"
    }
   ],
   "source": [
    "explained_variance=pca.explained_variance_ratio_\n",
    "with plt.style.context('dark_background'):\n",
    "    plt.figure(figsize=(6, 4))\n",
    "\n",
    "    plt.bar(range(13), explained_variance, alpha=0.5, align='center',label='individual explained variance')\n",
    "    plt.ylabel('Explained variance ratio')\n",
    "    plt.xlabel('Principal components')\n",
    "    plt.legend(loc='best')\n",
    "    plt.tight_layout()"
   ]
  },
  {
   "cell_type": "code",
   "execution_count": 16,
   "metadata": {},
   "outputs": [
    {
     "data": {
      "text/plain": [
       "(252, 13)"
      ]
     },
     "execution_count": 16,
     "metadata": {},
     "output_type": "execute_result"
    }
   ],
   "source": [
    "data_x_pca.shape"
   ]
  },
  {
   "cell_type": "code",
   "execution_count": 17,
   "metadata": {},
   "outputs": [
    {
     "data": {
      "text/plain": [
       "0.89722207"
      ]
     },
     "execution_count": 17,
     "metadata": {},
     "output_type": "execute_result"
    }
   ],
   "source": [
    "0.6184759 + 0.1042366 + 0.0771014 + 0.05134564+ 0.04606253"
   ]
  },
  {
   "cell_type": "code",
   "execution_count": 18,
   "metadata": {},
   "outputs": [
    {
     "data": {
      "text/plain": [
       "1.0"
      ]
     },
     "execution_count": 18,
     "metadata": {},
     "output_type": "execute_result"
    }
   ],
   "source": [
    "pca.explained_variance_ratio_.sum()"
   ]
  },
  {
   "cell_type": "code",
   "execution_count": 19,
   "metadata": {},
   "outputs": [
    {
     "data": {
      "text/plain": [
       "array([[-2.22405399, -1.23907275,  1.49921444, ..., -0.1534585 ,\n",
       "         0.36501388,  0.03712057],\n",
       "       [-0.88791171, -2.01371722,  0.03786291, ...,  0.22070776,\n",
       "        -0.0299183 , -0.03916811],\n",
       "       [-2.36578013, -1.22240161,  2.19792678, ..., -0.11452892,\n",
       "         0.15321628,  0.29115987],\n",
       "       ...,\n",
       "       [ 0.452017  ,  3.21209938,  0.47292409, ..., -0.33454743,\n",
       "         0.26314467, -0.04570494],\n",
       "       [ 1.23711131,  2.18713199, -1.81492442, ..., -0.20469357,\n",
       "         0.18825164, -0.16599395],\n",
       "       [ 3.70005006,  2.37511881, -1.80242278, ...,  0.23421231,\n",
       "         0.12704643,  0.18602569]])"
      ]
     },
     "execution_count": 19,
     "metadata": {},
     "output_type": "execute_result"
    }
   ],
   "source": [
    "data_x_pca"
   ]
  },
  {
   "cell_type": "code",
   "execution_count": 20,
   "metadata": {
    "scrolled": true
   },
   "outputs": [
    {
     "data": {
      "text/html": [
       "<div>\n",
       "<style scoped>\n",
       "    .dataframe tbody tr th:only-of-type {\n",
       "        vertical-align: middle;\n",
       "    }\n",
       "\n",
       "    .dataframe tbody tr th {\n",
       "        vertical-align: top;\n",
       "    }\n",
       "\n",
       "    .dataframe thead th {\n",
       "        text-align: right;\n",
       "    }\n",
       "</style>\n",
       "<table border=\"1\" class=\"dataframe\">\n",
       "  <thead>\n",
       "    <tr style=\"text-align: right;\">\n",
       "      <th></th>\n",
       "      <th>0</th>\n",
       "      <th>1</th>\n",
       "      <th>2</th>\n",
       "      <th>3</th>\n",
       "      <th>4</th>\n",
       "      <th>5</th>\n",
       "      <th>6</th>\n",
       "      <th>7</th>\n",
       "      <th>8</th>\n",
       "      <th>9</th>\n",
       "      <th>10</th>\n",
       "      <th>11</th>\n",
       "      <th>12</th>\n",
       "    </tr>\n",
       "  </thead>\n",
       "  <tbody>\n",
       "    <tr>\n",
       "      <td>0</td>\n",
       "      <td>1.000000e+00</td>\n",
       "      <td>-4.486843e-15</td>\n",
       "      <td>-3.240442e-16</td>\n",
       "      <td>2.244064e-16</td>\n",
       "      <td>1.766907e-16</td>\n",
       "      <td>2.658728e-16</td>\n",
       "      <td>2.323573e-16</td>\n",
       "      <td>-4.781766e-16</td>\n",
       "      <td>-1.961404e-16</td>\n",
       "      <td>6.753357e-16</td>\n",
       "      <td>1.098290e-15</td>\n",
       "      <td>5.943953e-16</td>\n",
       "      <td>-4.334374e-15</td>\n",
       "    </tr>\n",
       "    <tr>\n",
       "      <td>1</td>\n",
       "      <td>-4.486843e-15</td>\n",
       "      <td>1.000000e+00</td>\n",
       "      <td>-3.084717e-16</td>\n",
       "      <td>1.116404e-16</td>\n",
       "      <td>-8.510040e-17</td>\n",
       "      <td>6.709379e-16</td>\n",
       "      <td>-1.061229e-16</td>\n",
       "      <td>4.297492e-17</td>\n",
       "      <td>-1.592565e-16</td>\n",
       "      <td>-2.479929e-17</td>\n",
       "      <td>-8.695658e-17</td>\n",
       "      <td>-5.375954e-16</td>\n",
       "      <td>-4.618775e-16</td>\n",
       "    </tr>\n",
       "    <tr>\n",
       "      <td>2</td>\n",
       "      <td>-3.240442e-16</td>\n",
       "      <td>-3.084717e-16</td>\n",
       "      <td>1.000000e+00</td>\n",
       "      <td>2.456113e-16</td>\n",
       "      <td>-2.047217e-16</td>\n",
       "      <td>3.853953e-16</td>\n",
       "      <td>-6.416398e-17</td>\n",
       "      <td>-3.601159e-16</td>\n",
       "      <td>2.345516e-16</td>\n",
       "      <td>8.650465e-17</td>\n",
       "      <td>1.500808e-16</td>\n",
       "      <td>-9.025838e-16</td>\n",
       "      <td>-1.473635e-15</td>\n",
       "    </tr>\n",
       "    <tr>\n",
       "      <td>3</td>\n",
       "      <td>2.244064e-16</td>\n",
       "      <td>1.116404e-16</td>\n",
       "      <td>2.456113e-16</td>\n",
       "      <td>1.000000e+00</td>\n",
       "      <td>9.163606e-17</td>\n",
       "      <td>-7.205215e-17</td>\n",
       "      <td>-7.862680e-17</td>\n",
       "      <td>6.862127e-17</td>\n",
       "      <td>-2.719779e-16</td>\n",
       "      <td>-1.987559e-17</td>\n",
       "      <td>1.289787e-16</td>\n",
       "      <td>2.917592e-16</td>\n",
       "      <td>4.606628e-17</td>\n",
       "    </tr>\n",
       "    <tr>\n",
       "      <td>4</td>\n",
       "      <td>1.766907e-16</td>\n",
       "      <td>-8.510040e-17</td>\n",
       "      <td>-2.047217e-16</td>\n",
       "      <td>9.163606e-17</td>\n",
       "      <td>1.000000e+00</td>\n",
       "      <td>-5.127475e-16</td>\n",
       "      <td>-1.926338e-16</td>\n",
       "      <td>4.458444e-18</td>\n",
       "      <td>1.131305e-17</td>\n",
       "      <td>3.000002e-16</td>\n",
       "      <td>1.435837e-16</td>\n",
       "      <td>-2.257345e-16</td>\n",
       "      <td>-2.760693e-16</td>\n",
       "    </tr>\n",
       "    <tr>\n",
       "      <td>5</td>\n",
       "      <td>2.658728e-16</td>\n",
       "      <td>6.709379e-16</td>\n",
       "      <td>3.853953e-16</td>\n",
       "      <td>-7.205215e-17</td>\n",
       "      <td>-5.127475e-16</td>\n",
       "      <td>1.000000e+00</td>\n",
       "      <td>6.478490e-17</td>\n",
       "      <td>-8.113003e-17</td>\n",
       "      <td>-1.540775e-16</td>\n",
       "      <td>1.210434e-16</td>\n",
       "      <td>5.128879e-16</td>\n",
       "      <td>6.015873e-16</td>\n",
       "      <td>-3.660316e-16</td>\n",
       "    </tr>\n",
       "    <tr>\n",
       "      <td>6</td>\n",
       "      <td>2.323573e-16</td>\n",
       "      <td>-1.061229e-16</td>\n",
       "      <td>-6.416398e-17</td>\n",
       "      <td>-7.862680e-17</td>\n",
       "      <td>-1.926338e-16</td>\n",
       "      <td>6.478490e-17</td>\n",
       "      <td>1.000000e+00</td>\n",
       "      <td>9.591855e-15</td>\n",
       "      <td>-2.146698e-16</td>\n",
       "      <td>-1.675158e-16</td>\n",
       "      <td>-1.278734e-16</td>\n",
       "      <td>1.945423e-16</td>\n",
       "      <td>6.566489e-16</td>\n",
       "    </tr>\n",
       "    <tr>\n",
       "      <td>7</td>\n",
       "      <td>-4.781766e-16</td>\n",
       "      <td>4.297492e-17</td>\n",
       "      <td>-3.601159e-16</td>\n",
       "      <td>6.862127e-17</td>\n",
       "      <td>4.458444e-18</td>\n",
       "      <td>-8.113003e-17</td>\n",
       "      <td>9.591855e-15</td>\n",
       "      <td>1.000000e+00</td>\n",
       "      <td>4.567029e-16</td>\n",
       "      <td>-1.589544e-16</td>\n",
       "      <td>-2.012690e-16</td>\n",
       "      <td>-2.195549e-16</td>\n",
       "      <td>-1.009103e-15</td>\n",
       "    </tr>\n",
       "    <tr>\n",
       "      <td>8</td>\n",
       "      <td>-1.961404e-16</td>\n",
       "      <td>-1.592565e-16</td>\n",
       "      <td>2.345516e-16</td>\n",
       "      <td>-2.719779e-16</td>\n",
       "      <td>1.131305e-17</td>\n",
       "      <td>-1.540775e-16</td>\n",
       "      <td>-2.146698e-16</td>\n",
       "      <td>4.567029e-16</td>\n",
       "      <td>1.000000e+00</td>\n",
       "      <td>1.026359e-16</td>\n",
       "      <td>-2.209219e-16</td>\n",
       "      <td>-5.669530e-16</td>\n",
       "      <td>-1.357466e-16</td>\n",
       "    </tr>\n",
       "    <tr>\n",
       "      <td>9</td>\n",
       "      <td>6.753357e-16</td>\n",
       "      <td>-2.479929e-17</td>\n",
       "      <td>8.650465e-17</td>\n",
       "      <td>-1.987559e-17</td>\n",
       "      <td>3.000002e-16</td>\n",
       "      <td>1.210434e-16</td>\n",
       "      <td>-1.675158e-16</td>\n",
       "      <td>-1.589544e-16</td>\n",
       "      <td>1.026359e-16</td>\n",
       "      <td>1.000000e+00</td>\n",
       "      <td>2.434394e-16</td>\n",
       "      <td>-2.768896e-16</td>\n",
       "      <td>1.214477e-15</td>\n",
       "    </tr>\n",
       "    <tr>\n",
       "      <td>10</td>\n",
       "      <td>1.098290e-15</td>\n",
       "      <td>-8.695658e-17</td>\n",
       "      <td>1.500808e-16</td>\n",
       "      <td>1.289787e-16</td>\n",
       "      <td>1.435837e-16</td>\n",
       "      <td>5.128879e-16</td>\n",
       "      <td>-1.278734e-16</td>\n",
       "      <td>-2.012690e-16</td>\n",
       "      <td>-2.209219e-16</td>\n",
       "      <td>2.434394e-16</td>\n",
       "      <td>1.000000e+00</td>\n",
       "      <td>-6.606522e-17</td>\n",
       "      <td>-1.703083e-15</td>\n",
       "    </tr>\n",
       "    <tr>\n",
       "      <td>11</td>\n",
       "      <td>5.943953e-16</td>\n",
       "      <td>-5.375954e-16</td>\n",
       "      <td>-9.025838e-16</td>\n",
       "      <td>2.917592e-16</td>\n",
       "      <td>-2.257345e-16</td>\n",
       "      <td>6.015873e-16</td>\n",
       "      <td>1.945423e-16</td>\n",
       "      <td>-2.195549e-16</td>\n",
       "      <td>-5.669530e-16</td>\n",
       "      <td>-2.768896e-16</td>\n",
       "      <td>-6.606522e-17</td>\n",
       "      <td>1.000000e+00</td>\n",
       "      <td>-4.857568e-15</td>\n",
       "    </tr>\n",
       "    <tr>\n",
       "      <td>12</td>\n",
       "      <td>-4.334374e-15</td>\n",
       "      <td>-4.618775e-16</td>\n",
       "      <td>-1.473635e-15</td>\n",
       "      <td>4.606628e-17</td>\n",
       "      <td>-2.760693e-16</td>\n",
       "      <td>-3.660316e-16</td>\n",
       "      <td>6.566489e-16</td>\n",
       "      <td>-1.009103e-15</td>\n",
       "      <td>-1.357466e-16</td>\n",
       "      <td>1.214477e-15</td>\n",
       "      <td>-1.703083e-15</td>\n",
       "      <td>-4.857568e-15</td>\n",
       "      <td>1.000000e+00</td>\n",
       "    </tr>\n",
       "  </tbody>\n",
       "</table>\n",
       "</div>"
      ],
      "text/plain": [
       "              0             1             2             3             4   \\\n",
       "0   1.000000e+00 -4.486843e-15 -3.240442e-16  2.244064e-16  1.766907e-16   \n",
       "1  -4.486843e-15  1.000000e+00 -3.084717e-16  1.116404e-16 -8.510040e-17   \n",
       "2  -3.240442e-16 -3.084717e-16  1.000000e+00  2.456113e-16 -2.047217e-16   \n",
       "3   2.244064e-16  1.116404e-16  2.456113e-16  1.000000e+00  9.163606e-17   \n",
       "4   1.766907e-16 -8.510040e-17 -2.047217e-16  9.163606e-17  1.000000e+00   \n",
       "5   2.658728e-16  6.709379e-16  3.853953e-16 -7.205215e-17 -5.127475e-16   \n",
       "6   2.323573e-16 -1.061229e-16 -6.416398e-17 -7.862680e-17 -1.926338e-16   \n",
       "7  -4.781766e-16  4.297492e-17 -3.601159e-16  6.862127e-17  4.458444e-18   \n",
       "8  -1.961404e-16 -1.592565e-16  2.345516e-16 -2.719779e-16  1.131305e-17   \n",
       "9   6.753357e-16 -2.479929e-17  8.650465e-17 -1.987559e-17  3.000002e-16   \n",
       "10  1.098290e-15 -8.695658e-17  1.500808e-16  1.289787e-16  1.435837e-16   \n",
       "11  5.943953e-16 -5.375954e-16 -9.025838e-16  2.917592e-16 -2.257345e-16   \n",
       "12 -4.334374e-15 -4.618775e-16 -1.473635e-15  4.606628e-17 -2.760693e-16   \n",
       "\n",
       "              5             6             7             8             9   \\\n",
       "0   2.658728e-16  2.323573e-16 -4.781766e-16 -1.961404e-16  6.753357e-16   \n",
       "1   6.709379e-16 -1.061229e-16  4.297492e-17 -1.592565e-16 -2.479929e-17   \n",
       "2   3.853953e-16 -6.416398e-17 -3.601159e-16  2.345516e-16  8.650465e-17   \n",
       "3  -7.205215e-17 -7.862680e-17  6.862127e-17 -2.719779e-16 -1.987559e-17   \n",
       "4  -5.127475e-16 -1.926338e-16  4.458444e-18  1.131305e-17  3.000002e-16   \n",
       "5   1.000000e+00  6.478490e-17 -8.113003e-17 -1.540775e-16  1.210434e-16   \n",
       "6   6.478490e-17  1.000000e+00  9.591855e-15 -2.146698e-16 -1.675158e-16   \n",
       "7  -8.113003e-17  9.591855e-15  1.000000e+00  4.567029e-16 -1.589544e-16   \n",
       "8  -1.540775e-16 -2.146698e-16  4.567029e-16  1.000000e+00  1.026359e-16   \n",
       "9   1.210434e-16 -1.675158e-16 -1.589544e-16  1.026359e-16  1.000000e+00   \n",
       "10  5.128879e-16 -1.278734e-16 -2.012690e-16 -2.209219e-16  2.434394e-16   \n",
       "11  6.015873e-16  1.945423e-16 -2.195549e-16 -5.669530e-16 -2.768896e-16   \n",
       "12 -3.660316e-16  6.566489e-16 -1.009103e-15 -1.357466e-16  1.214477e-15   \n",
       "\n",
       "              10            11            12  \n",
       "0   1.098290e-15  5.943953e-16 -4.334374e-15  \n",
       "1  -8.695658e-17 -5.375954e-16 -4.618775e-16  \n",
       "2   1.500808e-16 -9.025838e-16 -1.473635e-15  \n",
       "3   1.289787e-16  2.917592e-16  4.606628e-17  \n",
       "4   1.435837e-16 -2.257345e-16 -2.760693e-16  \n",
       "5   5.128879e-16  6.015873e-16 -3.660316e-16  \n",
       "6  -1.278734e-16  1.945423e-16  6.566489e-16  \n",
       "7  -2.012690e-16 -2.195549e-16 -1.009103e-15  \n",
       "8  -2.209219e-16 -5.669530e-16 -1.357466e-16  \n",
       "9   2.434394e-16 -2.768896e-16  1.214477e-15  \n",
       "10  1.000000e+00 -6.606522e-17 -1.703083e-15  \n",
       "11 -6.606522e-17  1.000000e+00 -4.857568e-15  \n",
       "12 -1.703083e-15 -4.857568e-15  1.000000e+00  "
      ]
     },
     "execution_count": 20,
     "metadata": {},
     "output_type": "execute_result"
    }
   ],
   "source": [
    "pca_df = pd.DataFrame(data_x_pca)\n",
    "pca_df.corr()"
   ]
  },
  {
   "cell_type": "code",
   "execution_count": 21,
   "metadata": {},
   "outputs": [
    {
     "data": {
      "text/plain": [
       "Text(0.5, 1, 'Correlation between different fearures')"
      ]
     },
     "execution_count": 21,
     "metadata": {},
     "output_type": "execute_result"
    },
    {
     "data": {
      "image/png": "[encoded data removed]",
      "text/plain": [
       "<Figure size 1080x1080 with 2 Axes>"
      ]
     },
     "metadata": {
      "needs_background": "light"
     },
     "output_type": "display_data"
    }
   ],
   "source": [
    "\n",
    "correlation = pca_df.corr()\n",
    "plt.figure(figsize=(15,15))\n",
    "sns.heatmap(correlation, vmax=1, square=True,annot=True,cmap='viridis')\n",
    "plt.title('Correlation between different fearures')"
   ]
  },
  {
   "cell_type": "code",
   "execution_count": 22,
   "metadata": {},
   "outputs": [],
   "source": [
    "from sklearn import linear_model\n",
    "lcn_model = linear_model.LinearRegression()"
   ]
  },
  {
   "cell_type": "code",
   "execution_count": 23,
   "metadata": {
    "scrolled": true
   },
   "outputs": [
    {
     "data": {
      "text/html": [
       "<div>\n",
       "<style scoped>\n",
       "    .dataframe tbody tr th:only-of-type {\n",
       "        vertical-align: middle;\n",
       "    }\n",
       "\n",
       "    .dataframe tbody tr th {\n",
       "        vertical-align: top;\n",
       "    }\n",
       "\n",
       "    .dataframe thead th {\n",
       "        text-align: right;\n",
       "    }\n",
       "</style>\n",
       "<table border=\"1\" class=\"dataframe\">\n",
       "  <thead>\n",
       "    <tr style=\"text-align: right;\">\n",
       "      <th></th>\n",
       "      <th>0</th>\n",
       "      <th>1</th>\n",
       "      <th>2</th>\n",
       "      <th>3</th>\n",
       "      <th>4</th>\n",
       "      <th>5</th>\n",
       "      <th>6</th>\n",
       "      <th>7</th>\n",
       "      <th>8</th>\n",
       "      <th>9</th>\n",
       "      <th>10</th>\n",
       "      <th>11</th>\n",
       "      <th>12</th>\n",
       "    </tr>\n",
       "  </thead>\n",
       "  <tbody>\n",
       "    <tr>\n",
       "      <td>0</td>\n",
       "      <td>-2.224054</td>\n",
       "      <td>-1.239073</td>\n",
       "      <td>1.499214</td>\n",
       "      <td>-0.285168</td>\n",
       "      <td>-0.163375</td>\n",
       "      <td>0.236046</td>\n",
       "      <td>-0.226479</td>\n",
       "      <td>0.263392</td>\n",
       "      <td>-0.076203</td>\n",
       "      <td>-0.292361</td>\n",
       "      <td>-0.153459</td>\n",
       "      <td>0.365014</td>\n",
       "      <td>0.037121</td>\n",
       "    </tr>\n",
       "    <tr>\n",
       "      <td>1</td>\n",
       "      <td>-0.887912</td>\n",
       "      <td>-2.013717</td>\n",
       "      <td>0.037863</td>\n",
       "      <td>-0.228428</td>\n",
       "      <td>0.168634</td>\n",
       "      <td>0.746895</td>\n",
       "      <td>-0.049603</td>\n",
       "      <td>-0.610454</td>\n",
       "      <td>-0.192390</td>\n",
       "      <td>0.164927</td>\n",
       "      <td>0.220708</td>\n",
       "      <td>-0.029918</td>\n",
       "      <td>-0.039168</td>\n",
       "    </tr>\n",
       "    <tr>\n",
       "      <td>2</td>\n",
       "      <td>-2.365780</td>\n",
       "      <td>-1.222402</td>\n",
       "      <td>2.197927</td>\n",
       "      <td>1.918012</td>\n",
       "      <td>0.181308</td>\n",
       "      <td>-0.264787</td>\n",
       "      <td>0.166518</td>\n",
       "      <td>-0.129322</td>\n",
       "      <td>0.073317</td>\n",
       "      <td>-0.439153</td>\n",
       "      <td>-0.114529</td>\n",
       "      <td>0.153216</td>\n",
       "      <td>0.291160</td>\n",
       "    </tr>\n",
       "    <tr>\n",
       "      <td>3</td>\n",
       "      <td>-0.116070</td>\n",
       "      <td>-1.551725</td>\n",
       "      <td>0.311106</td>\n",
       "      <td>-0.513833</td>\n",
       "      <td>-0.294859</td>\n",
       "      <td>0.343433</td>\n",
       "      <td>0.246967</td>\n",
       "      <td>-0.216478</td>\n",
       "      <td>0.514082</td>\n",
       "      <td>0.039320</td>\n",
       "      <td>0.010698</td>\n",
       "      <td>-0.407625</td>\n",
       "      <td>-0.058998</td>\n",
       "    </tr>\n",
       "    <tr>\n",
       "      <td>4</td>\n",
       "      <td>0.322235</td>\n",
       "      <td>-1.690589</td>\n",
       "      <td>1.215897</td>\n",
       "      <td>1.409837</td>\n",
       "      <td>-0.314117</td>\n",
       "      <td>-1.196785</td>\n",
       "      <td>-0.416036</td>\n",
       "      <td>-0.036395</td>\n",
       "      <td>0.510426</td>\n",
       "      <td>-0.462736</td>\n",
       "      <td>-0.103085</td>\n",
       "      <td>0.889426</td>\n",
       "      <td>-0.049696</td>\n",
       "    </tr>\n",
       "  </tbody>\n",
       "</table>\n",
       "</div>"
      ],
      "text/plain": [
       "          0         1         2         3         4         5         6  \\\n",
       "0 -2.224054 -1.239073  1.499214 -0.285168 -0.163375  0.236046 -0.226479   \n",
       "1 -0.887912 -2.013717  0.037863 -0.228428  0.168634  0.746895 -0.049603   \n",
       "2 -2.365780 -1.222402  2.197927  1.918012  0.181308 -0.264787  0.166518   \n",
       "3 -0.116070 -1.551725  0.311106 -0.513833 -0.294859  0.343433  0.246967   \n",
       "4  0.322235 -1.690589  1.215897  1.409837 -0.314117 -1.196785 -0.416036   \n",
       "\n",
       "          7         8         9        10        11        12  \n",
       "0  0.263392 -0.076203 -0.292361 -0.153459  0.365014  0.037121  \n",
       "1 -0.610454 -0.192390  0.164927  0.220708 -0.029918 -0.039168  \n",
       "2 -0.129322  0.073317 -0.439153 -0.114529  0.153216  0.291160  \n",
       "3 -0.216478  0.514082  0.039320  0.010698 -0.407625 -0.058998  \n",
       "4 -0.036395  0.510426 -0.462736 -0.103085  0.889426 -0.049696  "
      ]
     },
     "execution_count": 23,
     "metadata": {},
     "output_type": "execute_result"
    }
   ],
   "source": [
    "pca_df.head()"
   ]
  },
  {
   "cell_type": "code",
   "execution_count": 32,
   "metadata": {},
   "outputs": [
    {
     "data": {
      "text/plain": [
       "LinearRegression(copy_X=True, fit_intercept=True, n_jobs=None, normalize=False)"
      ]
     },
     "execution_count": 32,
     "metadata": {},
     "output_type": "execute_result"
    }
   ],
   "source": [
    "lcn_model.fit(pca_df.iloc[:,[0,1,2,3,4,5,6,7]],data_y)"
   ]
  },
  {
   "cell_type": "code",
   "execution_count": 33,
   "metadata": {},
   "outputs": [
    {
     "data": {
      "text/plain": [
       "0.6741254499171134"
      ]
     },
     "execution_count": 33,
     "metadata": {},
     "output_type": "execute_result"
    }
   ],
   "source": [
    "lcn_model.score(pca_df.iloc[:,[0,1,2,3,4,5,6,7]],data_y)"
   ]
  },
  {
   "cell_type": "code",
   "execution_count": null,
   "metadata": {},
   "outputs": [],
   "source": []
  }
 ],
 "metadata": {
  "kernelspec": {
   "display_name": "Python 3",
   "language": "python",
   "name": "python3"
  },
  "language_info": {
   "codemirror_mode": {
    "name": "ipython",
    "version": 3
   },
   "file_extension": ".py",
   "mimetype": "text/x-python",
   "name": "python",
   "nbconvert_exporter": "python",
   "pygments_lexer": "ipython3",
   "version": "3.7.4"
  }
 },
 "nbformat": 4,
 "nbformat_minor": 2
}
